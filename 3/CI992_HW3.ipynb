{
  "nbformat": 4,
  "nbformat_minor": 0,
  "metadata": {
    "colab": {
      "name": "CI992_HW3.ipynb",
      "provenance": [],
      "collapsed_sections": []
    },
    "kernelspec": {
      "name": "python3",
      "display_name": "Python 3"
    },
    "language_info": {
      "name": "python"
    },
    "accelerator": "GPU"
  },
  "cells": [
    {
      "cell_type": "markdown",
      "metadata": {
        "id": "heBxPYfc0U22"
      },
      "source": [
        "# Your info\n",
        "\n",
        "Full name: mohammad yarmoghadam\n",
        "\n",
        "Student ID: 96462104"
      ]
    },
    {
      "cell_type": "markdown",
      "metadata": {
        "id": "UBD007b3-ntJ"
      },
      "source": [
        "# Q1. Hopfield"
      ]
    },
    {
      "cell_type": "markdown",
      "metadata": {
        "id": "VAAR47H8-5ML"
      },
      "source": [
        "## Q1.2"
      ]
    },
    {
      "cell_type": "code",
      "metadata": {
        "id": "LV7Xa2Sx-6cV"
      },
      "source": [
        "# Q1.2_graded\n",
        "# Do not change the above line.\n",
        "\n",
        "# This cell is for your imports.\n",
        "\n",
        "import numpy as np\n",
        "import matplotlib.pyplot as plt"
      ],
      "execution_count": 15,
      "outputs": []
    },
    {
      "cell_type": "code",
      "metadata": {
        "id": "bMIDe8oc_TLW",
        "colab": {
          "base_uri": "https://localhost:8080/"
        },
        "outputId": "0b488ebc-a0af-488c-adfe-35c6cd5830f6"
      },
      "source": [
        "# Q1.2_graded\n",
        "# Do not change the above line.\n",
        "\n",
        "# This cell is for your codes.\n",
        "\n",
        "templates = [[1, -1, 1, -1, 1, -1], [1, 1, 1, -1, -1, -1]]\n",
        "\n",
        "weights = np.ndarray((6, 6), buffer=np.full(6*6, 0), dtype=float)\n",
        "for item in templates: \n",
        "  for i in range(6):\n",
        "    for j in range(i):\n",
        "      weights[i, j] += item[i] * item[j]\n",
        "      weights[j, i] = weights[i, j] \n",
        "      \n",
        "\n",
        "np.fill_diagonal(weights, 0)\n",
        "print(weights)\n",
        "print(np.sign(np.dot(templates[0], weights)))\n",
        "print(np.sign(np.dot(templates[1], weights)))\n",
        "energy_of_network = np.ndarray((len(templates), 1), \n",
        "                               buffer=np.full(len(templates), 0), dtype=float)\n",
        "\n",
        "for ind, item in enumerate(templates):\n",
        "  for i in range(6):\n",
        "    for j in range(6):\n",
        "      energy_of_network[ind] = weights[i][j] * item[i] * item[j]\n",
        "energy_of_network /= 2\n",
        "\n",
        "print(energy_of_network)"
      ],
      "execution_count": 16,
      "outputs": [
        {
          "output_type": "stream",
          "text": [
            "[[ 0.  0.  2. -2.  0. -2.]\n",
            " [ 0.  0.  0.  0. -2.  0.]\n",
            " [ 2.  0.  0. -2.  0. -2.]\n",
            " [-2.  0. -2.  0.  0.  2.]\n",
            " [ 0. -2.  0.  0.  0.  0.]\n",
            " [-2.  0. -2.  2.  0.  0.]]\n",
            "[ 1. -1.  1. -1.  1. -1.]\n",
            "[ 1.  1.  1. -1. -1. -1.]\n",
            "[[0.]\n",
            " [0.]]\n"
          ],
          "name": "stdout"
        }
      ]
    },
    {
      "cell_type": "markdown",
      "metadata": {
        "id": "gMWCmByc-7H5"
      },
      "source": [
        "## Q1.3"
      ]
    },
    {
      "cell_type": "code",
      "metadata": {
        "id": "wpWMwI6z--GX",
        "colab": {
          "base_uri": "https://localhost:8080/"
        },
        "outputId": "d8faa311-b9a0-44ee-f32e-267c82a11d43"
      },
      "source": [
        "# Q1.3_graded\n",
        "# Do not change the above line.\n",
        "\n",
        "# This cell is for your imports.\n",
        "\n",
        "!wget \"https://www.cufonfonts.com/download/rf/arial\"\n",
        "!pwd\n",
        "!mkdir -p dataset\n",
        "!mv arial dataset/\n",
        "!cd dataset\n",
        "!unzip dataset/arial -d dataset/\n",
        "!mv dataset/ARIAL.TTF /usr/share/fonts/truetype/\n",
        "!cd ..\n",
        "!rm -rf dataset/"
      ],
      "execution_count": 17,
      "outputs": [
        {
          "output_type": "stream",
          "text": [
            "--2021-06-06 19:36:11--  https://www.cufonfonts.com/download/rf/arial\n",
            "Resolving www.cufonfonts.com (www.cufonfonts.com)... 104.26.8.47, 172.67.73.52, 104.26.9.47, ...\n",
            "Connecting to www.cufonfonts.com (www.cufonfonts.com)|104.26.8.47|:443... connected.\n",
            "HTTP request sent, awaiting response... 302 Found\n",
            "Location: https://www.cufonfonts.com/download/font/arial [following]\n",
            "--2021-06-06 19:36:12--  https://www.cufonfonts.com/download/font/arial\n",
            "Reusing existing connection to www.cufonfonts.com:443.\n",
            "HTTP request sent, awaiting response... 200 OK\n",
            "Length: 3834335 (3.7M) [application/zip]\n",
            "Saving to: ‘arial’\n",
            "\n",
            "arial               100%[===================>]   3.66M  --.-KB/s    in 0.06s   \n",
            "\n",
            "2021-06-06 19:36:12 (66.1 MB/s) - ‘arial’ saved [3834335/3834335]\n",
            "\n",
            "/content\n",
            "Archive:  dataset/arial\n",
            "  inflating: dataset/ARIAL.TTF       \n",
            "  inflating: dataset/ARIALN.TTF      \n",
            "  inflating: dataset/ARIALI 1.TTF    \n",
            "  inflating: dataset/ARIALI.TTF      \n",
            "  inflating: dataset/ARIALNI.TTF     \n",
            "  inflating: dataset/ArialMdm.ttf    \n",
            "  inflating: dataset/ArialMdmItl.ttf  \n",
            "  inflating: dataset/ARIALBD 1.TTF   \n",
            "  inflating: dataset/ARIALBD.TTF     \n",
            "  inflating: dataset/ARIALNB.TTF     \n",
            "  inflating: dataset/ARIALBI 1.TTF   \n",
            "  inflating: dataset/ARIALBI.TTF     \n",
            "  inflating: dataset/ARIALNBI.TTF    \n",
            "  inflating: dataset/ARIBLK.TTF      \n",
            "  inflating: dataset/ARIALBLACKITALIC.TTF  \n",
            "  inflating: dataset/ARIALLGT.TTF    \n",
            "  inflating: dataset/ArialCE.ttf     \n",
            "  inflating: dataset/ArialCEMTBlack.ttf  \n",
            "  inflating: dataset/arialceb.ttf    \n",
            "  inflating: dataset/ARIALLGTITL.TTF  \n",
            "  inflating: dataset/ArialCEItalic.ttf  \n",
            "  inflating: dataset/ArialCEBoldItalic.ttf  \n"
          ],
          "name": "stdout"
        }
      ]
    },
    {
      "cell_type": "code",
      "metadata": {
        "id": "kTmDh0Tw_Tuy",
        "colab": {
          "base_uri": "https://localhost:8080/"
        },
        "outputId": "d4715ee7-581e-4a69-fac8-c1828f9d6988"
      },
      "source": [
        "# Q1.3_graded\n",
        "# Do not change the above line.\n",
        "\n",
        "# This cell is for your codes.\n",
        "import os         \n",
        "import numpy as np\n",
        "from PIL import Image, ImageFont\n",
        "import matplotlib.pyplot as plt\n",
        "\n",
        "\n",
        "def calculate_accuracy(patterns, noise_templates, weights):\n",
        "  sum = 0\n",
        "  for index, item in enumerate(noise_templates):\n",
        "    sign_im = np.sign(np.dot(item, weights))\n",
        "    sum += np.sum(sign_im == patterns[index]) / patterns[index].shape[0]\n",
        "  return sum / len(noise_templates)\n",
        "\n",
        "\n",
        "def noise_template(templates, noise):\n",
        "  max_pixel = templates[0].shape\n",
        "  count_noise = int(max_pixel[0] * noise)\n",
        "  result = []\n",
        "  for index, template in enumerate(templates):\n",
        "    for i in np.random.randint(max_pixel[0], size=count_noise):\n",
        "      templates[index][i] = template[i] * -1\n",
        "    result.append(template)\n",
        "  return result\n",
        "\n",
        "\n",
        "def calculate_weights(templates, lenght):\n",
        "  weights = np.ndarray(lenght,\n",
        "                       buffer=np.full(lenght[0] * lenght[1], 0), dtype=float)\n",
        "  for item in templates: \n",
        "    for i in range(lenght[0]):\n",
        "      for j in range(i):\n",
        "        weights[i, j] += item[i] * item[j]\n",
        "        weights[j, i] = weights[i, j] \n",
        "  return weights\n",
        "\n",
        "\n",
        "def create_templates(size):\n",
        "  font = ImageFont.truetype(\"/usr/share/fonts/truetype/ARIAL.TTF\", size)\n",
        "  max_pixel = (-1,)\n",
        "  templates = []\n",
        "  for item in \"ABCDEFGHIJ\":\n",
        "    attribute = font.getmask(item)\n",
        "    temp_image = Image.Image()._new(attribute)\n",
        "    data_of_img = temp_image.getdata()\n",
        "    pixels_of_img = np.array(data_of_img)\n",
        "    if pixels_of_img.shape[0] > max_pixel[0]:\n",
        "      max_pixel = pixels_of_img.shape\n",
        "    templates.append(pixels_of_img)\n",
        "  final_templates = []\n",
        "  for item in templates:\n",
        "    item_size = len(item)\n",
        "    if item_size == max_pixel[0]:\n",
        "      continue\n",
        "    size_of_shift = max_pixel[0] - item_size\n",
        "    final_template = np.zeros(max_pixel)\n",
        "    final_template[int(size_of_shift/2):int(len(item) + size_of_shift/2)] = item\n",
        "    final_template = np.where(final_template > 0, 1, final_template)\n",
        "    final_templates.append(np.where(final_template == 0, -1, final_template))\n",
        "  return final_templates\n",
        "\n",
        "noise1 = 0.1\n",
        "noise2 = 0.3\n",
        "noise3 = 0.6\n",
        "\n",
        "\n",
        "first_font = create_templates(16)\n",
        "second_font = create_templates(32)\n",
        "third_font = create_templates(64)\n",
        "\n",
        "\n",
        "first_weights = calculate_weights(first_font, (first_font[0].shape[0],\n",
        "                                                 first_font[0].shape[0]))\n",
        "second_weights = calculate_weights(second_font, (second_font[0].shape[0],\n",
        "                                                  second_font[0].shape[0]))\n",
        "third_weights = calculate_weights(third_font, (third_font[0].shape[0],\n",
        "                                                 third_font[0].shape[0]))\n",
        "\n",
        "\n",
        "print(\"first noise = \" + str(noise1))\n",
        "print(calculate_accuracy(third_font,\n",
        "                         noise_template(third_font, noise1),\n",
        "                         third_weights))\n",
        "print(calculate_accuracy(second_font,\n",
        "                         noise_template(second_font, noise1),\n",
        "                         second_weights))\n",
        "print(calculate_accuracy(first_font,\n",
        "                         convert_to_noisy_pattern(first_font, noise1),\n",
        "                         first_weights))\n",
        "\n",
        "print(\"second noise = \" + str(noise2))\n",
        "print(calculate_accuracy(third_font,\n",
        "                         noise_template(third_font, noise2),\n",
        "                         third_weights))\n",
        "print(calculate_accuracy(second_font,\n",
        "                         noise_template(second_font, noise2),\n",
        "                         second_weights))\n",
        "print(calculate_accuracy(first_font,\n",
        "                         noise_template(first_font, noise2),\n",
        "                         first_weights))\n",
        "\n",
        "print(\"third noise = \" + str(noise3))\n",
        "print(calculate_accuracy(third_font,\n",
        "                         noise_template(third_font, noise3), \n",
        "                         third_weights))\n",
        "print(calculate_accuracy(second_font,\n",
        "                         noise_template(second_font, noise3),\n",
        "                         second_weights))\n",
        "print(calculate_accuracy(first_font,\n",
        "                         noise_template(first_font, noise3),\n",
        "                         first_weights))\n"
      ],
      "execution_count": 18,
      "outputs": [
        {
          "output_type": "stream",
          "text": [
            "first noise = 0.1\n",
            "0.8501388888888889\n",
            "0.8767149758454107\n",
            "0.8717948717948717\n",
            "second noise = 0.3\n",
            "0.6940277777777778\n",
            "0.7080193236714977\n",
            "0.6994301994301996\n",
            "third noise = 0.6\n",
            "0.5589814814814815\n",
            "0.5472463768115943\n",
            "0.547008547008547\n"
          ],
          "name": "stdout"
        }
      ]
    },
    {
      "cell_type": "markdown",
      "metadata": {
        "id": "iRqYhKw1rgUp"
      },
      "source": [
        "# <font color='red'>Submission</font>\n",
        "\n",
        "1. Sign up in [Gradescope](https://www.gradescope.com) with proper name and student ID and use the following code to join the class: <font color='green'>**D5372R**</font>\n",
        "2. Fill in your full name (seperated by single spaces) and student ID in the beginning of this notebook.\n",
        "3. After you're done with this notebook, you should do the following:\n",
        "  - Clear all outputs of the notebook.\n",
        "  ![clear all outputs](https://i.ibb.co/y6FrttB/Screen-Shot-2021-03-21-at-01-51-42.png)\n",
        "  - Run all of the cells (if you skipped a question just leave the cell unchanged), and make sure all of your outputs are correct.\n",
        "  ![run all](https://i.ibb.co/cgRcBZ0/Screen-Shot-2021-03-21-at-01-54-58.png)\n",
        "  - Save your notebook.\n",
        "  - If you're using Colab, download your notebook.\n",
        "  ![download ipynb](https://i.ibb.co/2KxYM6K/Screen-Shot-2021-03-21-at-02-03-50.png)\n",
        "  - Put the notebook file you just downloaded and `convert.py` in the same folder run the following command:\n",
        "  ```bash\n",
        "  python convert.py\n",
        "  ```\n",
        "  This will export your code for each question into a `.py` file.\n",
        "    - **Note**: if you want to add more cells, add this to the **first** line of the cell:\n",
        "  ```python\n",
        "  # Q5_graded\n",
        "  ```\n",
        "  according to the question number.\n",
        "  - There are 2 assignments in Gradescope:\n",
        "\n",
        "    ![assignments](https://i.ibb.co/10GMhGM/Screen-Shot-2021-03-21-at-02-16-25.png)\n",
        "  \n",
        "    You should upload your **codes** and your **notebook** in `HW3` section and your final report for all of the questions as a **single pdf** file in `HW3 - Report`. Autograder will automatically check for:\n",
        "    - `CI992_HW3.ipynb`\n",
        "    - `Q1.2.py`\n",
        "    - `Q1.3.py`\n",
        "    - `inverted_pendulum.fcl`\n",
        "    - Your name and ID in the beginning of `.ipynb` file.\n",
        "\n",
        "    It is important that you <font color='red'>**don't**</font> change the names of these files before submission.\n",
        "\n",
        "4. If you pass the autograder, you're good to go."
      ]
    },
    {
      "cell_type": "code",
      "metadata": {
        "id": "8ncvGuBu6f2e"
      },
      "source": [
        ""
      ],
      "execution_count": 18,
      "outputs": []
    }
  ]
}