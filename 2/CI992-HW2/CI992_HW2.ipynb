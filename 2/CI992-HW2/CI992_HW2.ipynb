{
  "nbformat": 4,
  "nbformat_minor": 0,
  "metadata": {
    "colab": {
      "name": "CI992_HW2.ipynb",
      "provenance": [],
      "collapsed_sections": [],
      "toc_visible": true
    },
    "kernelspec": {
      "display_name": "Python 3",
      "language": "python",
      "name": "python3"
    },
    "language_info": {
      "codemirror_mode": {
        "name": "ipython",
        "version": 3
      },
      "file_extension": ".py",
      "mimetype": "text/x-python",
      "name": "python",
      "nbconvert_exporter": "python",
      "pygments_lexer": "ipython3",
      "version": "3.8.7"
    },
    "accelerator": "GPU"
  },
  "cells": [
    {
      "cell_type": "markdown",
      "metadata": {
        "id": "heBxPYfc0U22"
      },
      "source": [
        "# Your info\n",
        "\n",
        "Full name:mohammad yarmoghadam\n",
        "\n",
        "Student ID:96462104"
      ]
    },
    {
      "cell_type": "markdown",
      "metadata": {
        "id": "AJU-9zasc1D6"
      },
      "source": [
        "Notice: **You can add new cells for each part.**"
      ]
    },
    {
      "cell_type": "markdown",
      "metadata": {
        "id": "UBD007b3-ntJ"
      },
      "source": [
        "# Q1.A. Kohonen"
      ]
    },
    {
      "cell_type": "code",
      "metadata": {
        "id": "rld-5wsb1gZS",
        "colab": {
          "base_uri": "https://localhost:8080/",
          "height": 264
        },
        "outputId": "a394a6e2-1081-4871-f0b9-8c097c5ae232"
      },
      "source": [
        "#write your code here\n",
        "import matplotlib.pyplot as plt\n",
        "import numpy as np\n",
        "\n",
        "\n",
        "class SOFM:\n",
        "    def __init__(self, lr, epochs):\n",
        "        self.map = np.random.uniform(0, 1, size=(40, 40, 3))\n",
        "        self.epochs = epochs\n",
        "        self.landa = self.epochs / np.log(20)\n",
        "        self.radius = 20\n",
        "        self.lr = lr\n",
        "\n",
        "    def update(self, minX, minY, x):\n",
        "        for i in range(len(self.map)):\n",
        "            for j in range(len(self.map[i])):\n",
        "                interval = np.power(np.power((i - minX), 2) + np.power((j - minY), 2), 0.5)\n",
        "                if interval < self.radius:\n",
        "                    flow = np.exp(-interval / (2 * (self.radius ** 2)))\n",
        "                    self.map[i][j] += flow * self.lr * (x - self.map[i][j])\n",
        "\n",
        "    def train(self, input):\n",
        "        for epoch in range(self.epochs):\n",
        "            data = input[epoch % 1600]\n",
        "            interval = float(\"inf\")\n",
        "            for i in range(len(self.map)):\n",
        "                for j in range(len(self.map[i])):\n",
        "                    if np.sqrt(np.sum(np.power((self.map[i][j] - data), 2 ))) < interval:\n",
        "                        interval = np.sqrt(np.sum(np.power((self.map[i][j] - data), 2)))\n",
        "                        X_min, Y_min = (i, j)\n",
        "            self.update(X_min, Y_min, data)\n",
        "        plt.subplot(1, 1, 1)\n",
        "        plt.axis('off')\n",
        "        plt.title(\"output A\")\n",
        "        plt.imshow(self.map)\n",
        "        plt.show()\n",
        "\n",
        "\n",
        "if __name__ == '__main__':\n",
        "    data = np.ndarray((1600, 3), dtype=float)\n",
        "    for i in range(len(data)):\n",
        "        r = np.random.randint(0, 255)\n",
        "        g = np.random.randint(0, 255)\n",
        "        b = np.random.randint(0, 255)\n",
        "        data[i] = [r, g, b]\n",
        "    data = data / data.max()\n",
        "    som = SOFM(0.1, 4800)\n",
        "    som.train(data)"
      ],
      "execution_count": 1,
      "outputs": [
        {
          "output_type": "display_data",
          "data": {
            "image/png": "[encoded data removed]",
            "text/plain": [
              "<Figure size 432x288 with 1 Axes>"
            ]
          },
          "metadata": {
            "tags": [],
            "needs_background": "light"
          }
        }
      ]
    },
    {
      "cell_type": "markdown",
      "metadata": {
        "id": "k3wNHj5KB8Zc"
      },
      "source": [
        "# Q1.B. Kohonen"
      ]
    },
    {
      "cell_type": "code",
      "metadata": {
        "id": "NXSGtRRmcEwK",
        "colab": {
          "base_uri": "https://localhost:8080/",
          "height": 511
        },
        "outputId": "cf35075b-7760-4ff8-b789-7a2d9e1291d1"
      },
      "source": [
        "#write your code here\n",
        "import matplotlib.pyplot as plt\n",
        "import numpy as np\n",
        "\n",
        "\n",
        "class SOFM:\n",
        "    def __init__(self, lr, epochs):\n",
        "        self.map = np.random.uniform(0, 1, size=(40, 40, 3))\n",
        "        self.epochs = epochs\n",
        "        self.landa = self.epochs / np.log(20)\n",
        "        self.radius = 20\n",
        "        self.lr = lr\n",
        "\n",
        "    def update_weights(self, minX, minY, x):\n",
        "        for i in range(len(self.map)):\n",
        "            for j in range(len(self.map[i])):\n",
        "                dist = np.power(np.power((i - minX), 2) + np.power((j - minY), 2), 0.5)\n",
        "                if dist < self.radius:\n",
        "                    influence = np.exp(-dist / (2 * (self.radius ** 2)))\n",
        "                    self.map[i][j] += influence * self.lr * (x - self.map[i][j])\n",
        "\n",
        "    def train1(self, input):\n",
        "        for epoch in range(self.epochs):\n",
        "            self.lr = 0.1 * np.exp(-epoch / self.landa)\n",
        "            data = input[epoch % 1600]\n",
        "            interval = float(\"inf\")\n",
        "            for i in range(len(self.map)):\n",
        "                for j in range(len(self.map[i])):\n",
        "                    if np.sqrt(np.sum(np.power((self.map[i][j] - data), 2 ))) < interval:\n",
        "                        interval = np.sqrt(np.sum(np.power((self.map[i][j] - data), 2)))\n",
        "                        X_min, Y_min = (i, j)\n",
        "            self.update_weights(X_min, Y_min, data)\n",
        "        plt.subplot(1, 1, 1)\n",
        "        plt.axis('off')\n",
        "        plt.title(\"output B\")\n",
        "        plt.imshow(self.map)\n",
        "        plt.show()\n",
        "\n",
        "    def train2(self, input):\n",
        "        for epoch in range(self.epochs):\n",
        "            self.lr = 0.1 * np.exp(-epoch / self.landa)\n",
        "            self.radius = 20 * np.exp(-epoch / self.landa)\n",
        "            data = input[epoch % 1600]\n",
        "            interval = float(\"inf\")\n",
        "            for i in range(len(self.map)):\n",
        "                for j in range(len(self.map[i])):\n",
        "                    if np.sqrt(np.sum(np.power((self.map[i][j] - data), 2 ))) < interval:\n",
        "                        interval = np.sqrt(np.sum(np.power((self.map[i][j] - data), 2)))\n",
        "                        X_min, Y_min = (i, j)\n",
        "            self.update_weights(X_min, Y_min, data)\n",
        "        plt.subplot(1, 1, 1)\n",
        "        plt.axis('off')\n",
        "        plt.title(\"output C\")\n",
        "        plt.imshow(self.map)\n",
        "        plt.show()\n",
        "\n",
        "\n",
        "if __name__ == '__main__':\n",
        "    data = np.ndarray((1600, 3), dtype=float)\n",
        "    for i in range(len(data)):\n",
        "        r = np.random.randint(0, 255)\n",
        "        g = np.random.randint(0, 255)\n",
        "        b = np.random.randint(0, 255)\n",
        "        data[i] = [r, g, b]\n",
        "    data = data / data.max()\n",
        "    som = SOFM(0.04, 3200)\n",
        "    som.train1(data)\n",
        "    som.train2(data)"
      ],
      "execution_count": 2,
      "outputs": [
        {
          "output_type": "display_data",
          "data": {
            "image/png": "[encoded data removed]",
            "text/plain": [
              "<Figure size 432x288 with 1 Axes>"
            ]
          },
          "metadata": {
            "tags": [],
            "needs_background": "light"
          }
        },
        {
          "output_type": "display_data",
          "data": {
            "image/png": "[encoded data removed]",
            "text/plain": [
              "<Figure size 432x288 with 1 Axes>"
            ]
          },
          "metadata": {
            "tags": [],
            "needs_background": "light"
          }
        }
      ]
    },
    {
      "cell_type": "markdown",
      "metadata": {
        "id": "VAAR47H8-5ML"
      },
      "source": [
        "# Q2.A. MLP"
      ]
    },
    {
      "cell_type": "code",
      "metadata": {
        "id": "LV7Xa2Sx-6cV",
        "colab": {
          "base_uri": "https://localhost:8080/",
          "height": 346
        },
        "outputId": "f5d834b2-e814-4381-b34a-d9ca2c0a1c1b"
      },
      "source": [
        "#write your code here\n",
        "# example of fitting a neural net on x vs x^2\n",
        "import math\n",
        "from sklearn.preprocessing import MinMaxScaler\n",
        "from sklearn.metrics import mean_squared_error\n",
        "from keras.models import Sequential\n",
        "from keras.layers import Dense\n",
        "from numpy import asarray\n",
        "from matplotlib import pyplot\n",
        "i = -3\n",
        "a = []\n",
        "while(i <= 3):\n",
        "  a.append(i)\n",
        "  i += 0.01\n",
        "x = asarray(a)\n",
        "y = asarray([math.sin(i) for i in x])\n",
        "print(x.min(), x.max(), y.min(), y.max())\n",
        "x = x.reshape((len(x), 1))\n",
        "y = y.reshape((len(y), 1))\n",
        "scale_x = MinMaxScaler()\n",
        "x = scale_x.fit_transform(x)\n",
        "scale_y = MinMaxScaler()\n",
        "y = scale_y.fit_transform(y)\n",
        "print(x.min(), x.max(), y.min(), y.max())\n",
        "model = Sequential()\n",
        "model.add(Dense(10, input_dim=1, activation='relu', kernel_initializer='he_uniform'))\n",
        "model.add(Dense(10, activation='relu', kernel_initializer='he_uniform'))\n",
        "model.add(Dense(1))\n",
        "model.compile(loss='mse', optimizer='adam')\n",
        "model.fit(x, y, epochs=500, batch_size=10, verbose=0)\n",
        "yhat = model.predict(x)\n",
        "x_plot = scale_x.inverse_transform(x)\n",
        "y_plot = scale_y.inverse_transform(y)\n",
        "yhat_plot = scale_y.inverse_transform(yhat)\n",
        "print('MSE: %.3f' % mean_squared_error(y_plot, yhat_plot))\n",
        "pyplot.scatter(x_plot,y_plot, label='Actual')\n",
        "pyplot.scatter(x_plot,yhat_plot, label='Predicted')\n",
        "pyplot.title('Input (x) versus Output (y)')\n",
        "pyplot.xlabel('Input Variable (x)')\n",
        "pyplot.ylabel('Output Variable (y)')\n",
        "pyplot.legend()\n",
        "pyplot.show()"
      ],
      "execution_count": 3,
      "outputs": [
        {
          "output_type": "stream",
          "text": [
            "-3.0 2.9999999999999605 -0.9999996829318346 0.9999996829318346\n",
            "0.0 0.9999999999999998 0.0 0.9999999999999999\n",
            "MSE: 0.001\n"
          ],
          "name": "stdout"
        },
        {
          "output_type": "display_data",
          "data": {
            "image/png": "[encoded data removed]",
            "text/plain": [
              "<Figure size 432x288 with 1 Axes>"
            ]
          },
          "metadata": {
            "tags": [],
            "needs_background": "light"
          }
        }
      ]
    },
    {
      "cell_type": "markdown",
      "metadata": {
        "id": "IZSH8riLCDQi"
      },
      "source": [
        "# Q2.B. RBF"
      ]
    },
    {
      "cell_type": "code",
      "metadata": {
        "id": "N_MTSTh3CJ99",
        "colab": {
          "base_uri": "https://localhost:8080/",
          "height": 297
        },
        "outputId": "37baee7a-8986-4260-8647-4845af79503a"
      },
      "source": [
        "#write your code here\n",
        "import math\n",
        "from sklearn.preprocessing import MinMaxScaler\n",
        "from sklearn.metrics import mean_squared_error\n",
        "from keras.models import Sequential\n",
        "from keras.layers import Dense\n",
        "from numpy import asarray\n",
        "from matplotlib import pyplot\n",
        "import numpy as np\n",
        "def rbf(x, c, s):\n",
        "    return np.exp(-1 / (2 * s**2) * (x-c)**2)\n",
        "def kmeans(X, k):\n",
        "    clusters = np.random.choice(np.squeeze(X), size=k)\n",
        "    prevClusters = clusters.copy()\n",
        "    stds = np.zeros(k)\n",
        "    converged = False\n",
        "    while not converged:\n",
        "        distances = np.squeeze(np.abs(X[:, np.newaxis] - clusters[np.newaxis, :]))\n",
        "        closestCluster = np.argmin(distances, axis=1)\n",
        "        for i in range(k):\n",
        "            pointsForCluster = X[closestCluster == i]\n",
        "            if len(pointsForCluster) > 0:\n",
        "                clusters[i] = np.mean(pointsForCluster, axis=0)\n",
        "        converged = np.linalg.norm(clusters - prevClusters) < 1e-6\n",
        "        prevClusters = clusters.copy()\n",
        "    distances = np.squeeze(np.abs(X[:, np.newaxis] - clusters[np.newaxis, :]))\n",
        "    closestCluster = np.argmin(distances, axis=1)\n",
        "    clustersWithNoPoints = []\n",
        "    for i in range(k):\n",
        "        pointsForCluster = X[closestCluster == i]\n",
        "        if len(pointsForCluster) < 2:\n",
        "            clustersWithNoPoints.append(i)\n",
        "            continue\n",
        "        else:\n",
        "            stds[i] = np.std(X[closestCluster == i])\n",
        "    if len(clustersWithNoPoints) > 0:\n",
        "        pointsToAverage = []\n",
        "        for i in range(k):\n",
        "            if i not in clustersWithNoPoints:\n",
        "                pointsToAverage.append(X[closestCluster == i])\n",
        "        pointsToAverage = np.concatenate(pointsToAverage).ravel()\n",
        "        stds[clustersWithNoPoints] = np.mean(np.std(pointsToAverage))\n",
        "    return clusters, stds\n",
        "class RBFNet(object):\n",
        "    def __init__(self, k=2, lr=0.01, epochs=100, rbf=rbf, inferStds=True):\n",
        "        self.k = k\n",
        "        self.lr = lr\n",
        "        self.epochs = epochs\n",
        "        self.rbf = rbf\n",
        "        self.inferStds = inferStds\n",
        " \n",
        "        self.w = np.random.randn(k)\n",
        "        self.b = np.random.randn(1)\n",
        "    def fit(self, X, y):\n",
        "      if self.inferStds:\n",
        "        self.centers, self.stds = kmeans(X, self.k)\n",
        "      else:\n",
        "        self.centers, _ = kmeans(X, self.k)\n",
        "        dMax = max([np.abs(c1 - c2) for c1 in self.centers for c2 in self.centers])\n",
        "        self.stds = np.repeat(dMax / np.sqrt(2*self.k), self.k)\n",
        "      for epoch in range(self.epochs):\n",
        "        for i in range(X.shape[0]):\n",
        "            a = np.array([self.rbf(X[i], c, s) for c, s, in zip(self.centers, self.stds)])\n",
        "            F = a.T.dot(self.w) + self.b\n",
        "            loss = (y[i] - F).flatten() ** 2\n",
        "            error = -(y[i] - F).flatten()\n",
        "            self.w = self.w - self.lr * a * error\n",
        "            self.b = self.b - self.lr * error\n",
        "    def predict(self, X):\n",
        "      y_pred = []\n",
        "      for i in range(X.shape[0]):\n",
        "        a = np.array([self.rbf(X[i], c, s) for c, s, in zip(self.centers, self.stds)])\n",
        "        F = a.T.dot(self.w) + self.b\n",
        "        y_pred.append(F)\n",
        "      return np.array(y_pred)\n",
        "if __name__ == '__main__':\n",
        "  NUM_SAMPLES = 100\n",
        "  X = np.random.uniform(-4., 4., NUM_SAMPLES)\n",
        "  X = np.sort(X, axis=0)\n",
        "  noise = np.random.uniform(-0.1, 0.1, NUM_SAMPLES)\n",
        "  y = np.sin(X)  + noise\n",
        "  rbfnet = RBFNet(lr=1e-2, k=2)\n",
        "  rbfnet.fit(X, y)\n",
        "  y_pred = rbfnet.predict(X)\n",
        "  pyplot.plot(X, y, '-o', label='true')\n",
        "  pyplot.plot(X, y_pred, '-o', label='RBF-Net')\n",
        "  pyplot.title('Input (x) versus Output (y)')\n",
        "  pyplot.xlabel('Input Variable (x)')\n",
        "  pyplot.ylabel('Output Variable (y)')\n",
        "  pyplot.legend()\n",
        "  pyplot.tight_layout()\n",
        "  pyplot.show()"
      ],
      "execution_count": 4,
      "outputs": [
        {
          "output_type": "display_data",
          "data": {
            "image/png": "[encoded data removed]",
            "text/plain": [
              "<Figure size 432x288 with 1 Axes>"
            ]
          },
          "metadata": {
            "tags": [],
            "needs_background": "light"
          }
        }
      ]
    },
    {
      "cell_type": "markdown",
      "metadata": {
        "id": "blcE1yPkeb5u"
      },
      "source": [
        "# Q2.C. Compare"
      ]
    },
    {
      "cell_type": "code",
      "metadata": {
        "id": "hWDE-iamebf8",
        "colab": {
          "base_uri": "https://localhost:8080/",
          "height": 297
        },
        "outputId": "01e94987-3138-4680-823e-e75f771c1334"
      },
      "source": [
        "#write your code here\n",
        "import numpy as np\n",
        "def rbf(x, c, s):\n",
        "    return np.exp(-1 / (2 * s**2) * (x-c)**2)\n",
        "def kmeans(X, k):\n",
        "    clusters = np.random.choice(np.squeeze(X), size=k)\n",
        "    prevClusters = clusters.copy()\n",
        "    stds = np.zeros(k)\n",
        "    converged = False\n",
        "    while not converged:\n",
        "        distances = np.squeeze(np.abs(X[:, np.newaxis] - clusters[np.newaxis, :]))\n",
        "        closestCluster = np.argmin(distances, axis=1)\n",
        "        for i in range(k):\n",
        "            pointsForCluster = X[closestCluster == i]\n",
        "            if len(pointsForCluster) > 0:\n",
        "                clusters[i] = np.mean(pointsForCluster, axis=0)\n",
        "        converged = np.linalg.norm(clusters - prevClusters) < 1e-6\n",
        "        prevClusters = clusters.copy()\n",
        "    distances = np.squeeze(np.abs(X[:, np.newaxis] - clusters[np.newaxis, :]))\n",
        "    closestCluster = np.argmin(distances, axis=1)\n",
        "    clustersWithNoPoints = []\n",
        "    for i in range(k):\n",
        "        pointsForCluster = X[closestCluster == i]\n",
        "        if len(pointsForCluster) < 2:\n",
        "            clustersWithNoPoints.append(i)\n",
        "            continue\n",
        "        else:\n",
        "            stds[i] = np.std(X[closestCluster == i])\n",
        "    if len(clustersWithNoPoints) > 0:\n",
        "        pointsToAverage = []\n",
        "        for i in range(k):\n",
        "            if i not in clustersWithNoPoints:\n",
        "                pointsToAverage.append(X[closestCluster == i])\n",
        "        pointsToAverage = np.concatenate(pointsToAverage).ravel()\n",
        "        stds[clustersWithNoPoints] = np.mean(np.std(pointsToAverage))\n",
        "    return clusters, stds\n",
        "class RBFNet(object):\n",
        "    def __init__(self, k=2, lr=0.01, epochs=100, rbf=rbf, inferStds=True):\n",
        "        self.k = k\n",
        "        self.lr = lr\n",
        "        self.epochs = epochs\n",
        "        self.rbf = rbf\n",
        "        self.inferStds = inferStds\n",
        " \n",
        "        self.w = np.random.randn(k)\n",
        "        self.b = np.random.randn(1)\n",
        "    def fit(self, X, y):\n",
        "      if self.inferStds:\n",
        "        self.centers, self.stds = kmeans(X, self.k)\n",
        "      else:\n",
        "        self.centers, _ = kmeans(X, self.k)\n",
        "        dMax = max([np.abs(c1 - c2) for c1 in self.centers for c2 in self.centers])\n",
        "        self.stds = np.repeat(dMax / np.sqrt(2*self.k), self.k)\n",
        "      for epoch in range(self.epochs):\n",
        "        for i in range(X.shape[0]):\n",
        "            a = np.array([self.rbf(X[i], c, s) for c, s, in zip(self.centers, self.stds)])\n",
        "            F = a.T.dot(self.w) + self.b\n",
        "            loss = (y[i] - F).flatten() ** 2\n",
        "            error = -(y[i] - F).flatten()\n",
        "            self.w = self.w - self.lr * a * error\n",
        "            self.b = self.b - self.lr * error\n",
        "    def predict(self, X):\n",
        "      y_pred = []\n",
        "      for i in range(X.shape[0]):\n",
        "        a = np.array([self.rbf(X[i], c, s) for c, s, in zip(self.centers, self.stds)])\n",
        "        F = a.T.dot(self.w) + self.b\n",
        "        y_pred.append(F)\n",
        "      return np.array(y_pred)\n",
        "if __name__ == '__main__':\n",
        "  i = -3\n",
        "  a = []\n",
        "  while(i <= 3):\n",
        "    a.append(i)\n",
        "    i += 0.01\n",
        "  x = asarray(a)\n",
        "  y = asarray([math.sin(i) for i in x])\n",
        "  x = x.reshape((len(x), 1))\n",
        "  y = y.reshape((len(y), 1))\n",
        "  scale_x = MinMaxScaler()\n",
        "  x = scale_x.fit_transform(x)\n",
        "  scale_y = MinMaxScaler()\n",
        "  y = scale_y.fit_transform(y)\n",
        "  model = Sequential()\n",
        "  model.add(Dense(10, input_dim=1, activation='relu', kernel_initializer='he_uniform'))\n",
        "  model.add(Dense(10, activation='relu', kernel_initializer='he_uniform'))\n",
        "  model.add(Dense(1))\n",
        "  model.compile(loss='mse', optimizer='adam')\n",
        "  model.fit(x, y, epochs=500, batch_size=10, verbose=0)\n",
        "  yhat = model.predict(x)\n",
        "  x_plot = scale_x.inverse_transform(x)\n",
        "  y_plot = scale_y.inverse_transform(y)\n",
        "  yhat_plot = scale_y.inverse_transform(yhat)\n",
        "  NUM_SAMPLES = 100\n",
        "  X = np.random.uniform(-4., 4., NUM_SAMPLES)\n",
        "  X = np.sort(X, axis=0)\n",
        "  noise = np.random.uniform(-0.1, 0.1, NUM_SAMPLES)\n",
        "  y = np.sin(X)  + noise\n",
        "  rbfnet = RBFNet(lr=1e-2, k=2)\n",
        "  rbfnet.fit(X, y)\n",
        "  y_pred = rbfnet.predict(X)\n",
        "  pyplot.scatter(x_plot,y_plot, label='Actual')\n",
        "  pyplot.scatter(x_plot,yhat_plot, label='MLP Predict')\n",
        "  pyplot.title('Input (x) versus Output (y)')\n",
        "  pyplot.xlabel('Input Variable (x)')\n",
        "  pyplot.ylabel('Output Variable (y)')\n",
        "  pyplot.scatter(X,y_pred, label=' RBF Predict')\n",
        "  pyplot.legend()\n",
        "  pyplot.tight_layout()\n",
        "  pyplot.show()"
      ],
      "execution_count": 8,
      "outputs": [
        {
          "output_type": "display_data",
          "data": {
            "image/png": "[encoded data removed]",
            "text/plain": [
              "<Figure size 432x288 with 1 Axes>"
            ]
          },
          "metadata": {
            "tags": [],
            "needs_background": "light"
          }
        }
      ]
    },
    {
      "cell_type": "markdown",
      "metadata": {
        "id": "iRqYhKw1rgUp"
      },
      "source": [
        "# <font color='red'>Submission</font>\n",
        "\n",
        "1. Sign up in [Gradescope](https://www.gradescope.com) with proper name and student ID and use the following code to join the class: <font color='red'>**D5372R**</font>\n",
        "2. Fill in your full name (seperated by single spaces) and student ID in the beginning of this notebook.\n",
        "3. After you're done with this notebook, you should do the following:\n",
        "  - Clear all outputs of the notebook.\n",
        "  ![clear all outputs](https://i.ibb.co/y6FrttB/Screen-Shot-2021-03-21-at-01-51-42.png)\n",
        "  - Run all of the cells (if you skipped a question just leave the cell unchanged), and make sure all of your outputs are correct.\n",
        "  ![run all](https://i.ibb.co/cgRcBZ0/Screen-Shot-2021-03-21-at-01-54-58.png)\n",
        "  - Save your notebook.\n",
        "  \n",
        "  - If you're using Colab, download your notebook.\n",
        "  ![download ipynb](https://i.ibb.co/2KxYM6K/Screen-Shot-2021-03-21-at-02-03-50.png)\n",
        "  \n",
        "  - Put the notebook file you just downloaded and `convert.py` in the same folder run the following command:\n",
        "  ```bash\n",
        "  python convert.py\n",
        "  ```\n",
        "  This will export your code for each question into a `.py` file.\n",
        "   \n",
        "\n",
        "  according to the question number.\n",
        "  - There are 2 assignments in Gradescope: \n",
        "\n",
        "    You should upload your **codes** and your **notebook** in `HW2` section and your final report for all of the questions as a **single pdf** file in `HW2 - Report`. Autograder will automatically check for:\n",
        "    - `CI992_HW2.ipynb`\n",
        "    - `Q1.A. Kohonen.py`\n",
        "    - `Q1.B. Koohonen.py`\n",
        "    - `Q2.A. MLP.py`\n",
        "    - `Q2.B. RBF.py`\n",
        "    - `Q2.C. Compare.py`\n",
        "    - Your name and ID in the beginning of `.ipynb` file.\n",
        "\n",
        "    It is important that you <font color='red'>**don't**</font> change the names of these files before submission.\n",
        "\n",
        "4. If you pass the autograder, you're good to go."
      ]
    },
    {
      "cell_type": "code",
      "metadata": {
        "id": "FnTVIJyyA8nJ"
      },
      "source": [
        ""
      ],
      "execution_count": 5,
      "outputs": []
    }
  ]
}